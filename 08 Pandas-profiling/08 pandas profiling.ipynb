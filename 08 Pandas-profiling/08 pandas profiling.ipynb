{
 "cells": [
  {
   "cell_type": "markdown",
   "id": "39d477e4-28c6-45b6-a5dc-bd8e8e9a62bf",
   "metadata": {},
   "source": [
    "# Installing pandas-profiling library"
   ]
  },
  {
   "cell_type": "code",
   "execution_count": 12,
   "id": "e03aea03-7cda-40c8-b651-d04aa73f4cb3",
   "metadata": {},
   "outputs": [],
   "source": [
    "#! pip install ydata-profiling"
   ]
  },
  {
   "cell_type": "code",
   "execution_count": 16,
   "id": "c6e91a7e-2b38-41f9-8010-274df0b21087",
   "metadata": {},
   "outputs": [],
   "source": [
    "import ydata_profiling as yd\n",
    "import pandas as pd"
   ]
  },
  {
   "cell_type": "code",
   "execution_count": 18,
   "id": "8b36485d-a90e-4c3d-9f15-34185a3693f8",
   "metadata": {},
   "outputs": [],
   "source": [
    "df = pd.read_csv('train.csv')"
   ]
  },
  {
   "cell_type": "code",
   "execution_count": 20,
   "id": "f51d2f00-1cd6-45e5-af74-644e96297cc6",
   "metadata": {},
   "outputs": [
    {
     "data": {
      "application/vnd.jupyter.widget-view+json": {
       "model_id": "71e9c222af3f45939d95e2ffefdf9c2e",
       "version_major": 2,
       "version_minor": 0
      },
      "text/plain": [
       "Summarize dataset:   0%|          | 0/5 [00:00<?, ?it/s]"
      ]
     },
     "metadata": {},
     "output_type": "display_data"
    },
    {
     "data": {
      "application/vnd.jupyter.widget-view+json": {
       "model_id": "dc460e4be16849369d87bffcbb04bb9d",
       "version_major": 2,
       "version_minor": 0
      },
      "text/plain": [
       "Generate report structure:   0%|          | 0/1 [00:00<?, ?it/s]"
      ]
     },
     "metadata": {},
     "output_type": "display_data"
    },
    {
     "data": {
      "application/vnd.jupyter.widget-view+json": {
       "model_id": "bd40d4e83e6f4c019d9aae5ae622d089",
       "version_major": 2,
       "version_minor": 0
      },
      "text/plain": [
       "Render HTML:   0%|          | 0/1 [00:00<?, ?it/s]"
      ]
     },
     "metadata": {},
     "output_type": "display_data"
    },
    {
     "data": {
      "application/vnd.jupyter.widget-view+json": {
       "model_id": "a8b8edbafee644cf95214134318d18c8",
       "version_major": 2,
       "version_minor": 0
      },
      "text/plain": [
       "Export report to file:   0%|          | 0/1 [00:00<?, ?it/s]"
      ]
     },
     "metadata": {},
     "output_type": "display_data"
    }
   ],
   "source": [
    "profie = yd.ProfileReport(df)\n",
    "profie.to_file(output_file='output.html')"
   ]
  },
  {
   "cell_type": "code",
   "execution_count": null,
   "id": "ad250de6-e3d3-4632-95ea-957757ee015b",
   "metadata": {},
   "outputs": [],
   "source": []
  }
 ],
 "metadata": {
  "kernelspec": {
   "display_name": "Python 3 (ipykernel)",
   "language": "python",
   "name": "python3"
  },
  "language_info": {
   "codemirror_mode": {
    "name": "ipython",
    "version": 3
   },
   "file_extension": ".py",
   "mimetype": "text/x-python",
   "name": "python",
   "nbconvert_exporter": "python",
   "pygments_lexer": "ipython3",
   "version": "3.12.4"
  }
 },
 "nbformat": 4,
 "nbformat_minor": 5
}
